{
    "cells": [
        {
            "cell_type": "markdown",
            "metadata": {
                "collapsed": true
            },
            "source": "Disorderly Escape\n=================\n\nOh no! You've managed to free the bunny prisoners and escape Commander Lambdas exploding space station, but her team of elite starfighters has flanked your ship. If you dont jump to hyperspace, and fast, youll be shot out of the sky!\n\nProblem is, to avoid detection by galactic law enforcement, Commander Lambda planted her space station in the middle of a quasar quantum flux field. In order to make the jump to hyperspace, you need to know the configuration of celestial bodies in the quadrant you plan to jump through. In order to do *that*, you need to figure out how many configurations each quadrant could possibly have, so that you can pick the optimal quadrant through which youll make your jump. \n\nThere's something important to note about quasar quantum flux fields' configurations: when drawn on a star grid, configurations are considered equivalent by grouping rather than by order. That is, for a given set of configurations, if you exchange the position of any two columns or any two rows some number of times, youll find that all of those configurations are equivalent in that way - in grouping, rather than order.\n\nWrite a function solution(w, h, s) that takes 3 integers and returns the number of unique, non-equivalent configurations that can be found on a star grid w blocks wide and h blocks tall where each celestial body has s possible states. Equivalency is defined as above: any two star grids with each celestial body in the same state where the actual order of the rows and columns do not matter (and can thus be freely swapped around). Star grid standardization means that the width and height of the grid will always be between 1 and 12, inclusive. And while there are a variety of celestial bodies in each grid, the number of states of those bodies is between 2 and 20, inclusive. The solution can be over 20 digits long, so return it as a decimal string.  The intermediate values can also be large, so you will likely need to use at least 64-bit integers.\n\nFor example, consider w=2, h=2, s=2. We have a 2x2 grid where each celestial body is either in state 0 (for instance, silent) or state 1 (for instance, noisy).  We can examine which grids are equivalent by swapping rows and columns.\n\n00\n\n00\n\nIn the above configuration, all celestial bodies are \"silent\" - that is, they have a state of 0 - so any swap of row or column would keep it in the same state.\n\n00 00 01 10\n\n01 10 00 00\n\n1 celestial body is emitting noise - that is, has a state of 1 - so swapping rows and columns can put it in any of the 4 positions.  All four of the above configurations are equivalent.\n\n00 11\n\n11 00\n\n2 celestial bodies are emitting noise side-by-side.  Swapping columns leaves them unchanged, and swapping rows simply moves them between the top and bottom.  In both, the *groupings* are the same: one row with two bodies in state 0, one row with two bodies in state 1, and two columns with one of each state.\n\n01 10\n\n01 10\n\n2 noisy celestial bodies adjacent vertically. This is symmetric to the side-by-side case, but it is different because there's no way to transpose the grid.\n\n01 10\n\n10 01\n\n2 noisy celestial bodies diagonally.  Both have 2 rows and 2 columns that have one of each state, so they are equivalent to each other.\n\n01 10 11 11\n\n11 11 01 10\n\n3 noisy celestial bodies, similar to the case where only one of four is noisy.\n\n11\n\n11\n\n4 noisy celestial bodies.\n\nThere are 7 distinct, non-equivalent grids in total, so solution(2, 2, 2) would return 7.\n\nLanguages\n=========\n\nTo provide a Java solution, edit Solution.java\nTo provide a Python solution, edit solution.py\n\nTest cases\n==========\nYour code should pass the following test cases.\nNote that it may also be run against hidden test cases not shown here.\n\n-- Java cases --\nInput:\nSolution.solution(2, 3, 4)\nOutput:\n    430\n\nInput:\nSolution.solution(2, 2, 2)\nOutput:\n    7\n\n-- Python cases --\nInput:\nsolution.solution(2, 3, 4)\nOutput:\n    430\n\nInput:\nsolution.solution(2, 2, 2)\nOutput:\n    7"
        },
        {
            "cell_type": "code",
            "execution_count": 147,
            "metadata": {},
            "outputs": [],
            "source": ""
        }
    ],
    "metadata": {
        "kernelspec": {
            "display_name": "Python 3.6",
            "language": "python",
            "name": "python3"
        },
        "language_info": {
            "codemirror_mode": {
                "name": "ipython",
                "version": 3
            },
            "file_extension": ".py",
            "mimetype": "text/x-python",
            "name": "python",
            "nbconvert_exporter": "python",
            "pygments_lexer": "ipython3",
            "version": "3.6.9"
        }
    },
    "nbformat": 4,
    "nbformat_minor": 1
}
