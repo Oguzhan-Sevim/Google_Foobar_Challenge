{
    "cells": [
        {
            "cell_type": "markdown",
            "metadata": {},
            "source": "Find the Access Codes\n=====================\n\nIn order to destroy Commander Lambda's LAMBCHOP doomsday device, you'll need access to it. But the only door leading to the LAMBCHOP chamber is secured with a unique lock system whose number of passcodes changes daily. Commander Lambda gets a report every day that includes the locks' access codes, but only she knows how to figure out which of several lists contains the access codes. You need to find a way to determine which list contains the access codes once you're ready to go in. \n\nFortunately, now that you're Commander Lambda's personal assistant, she's confided to you that she made all the access codes \"lucky triples\" in order to help her better find them in the lists. A \"lucky triple\" is a tuple (x, y, z) where x divides y and y divides z, such as (1, 2, 4). With that information, you can figure out which list contains the number of access codes that matches the number of locks on the door when you're ready to go in (for example, if there's 5 passcodes, you'd need to find a list with 5 \"lucky triple\" access codes).\n\nWrite a function solution(l) that takes a list of positive integers l and counts the number of \"lucky triples\" of (li, lj, lk) where the list indices meet the requirement i < j < k.  The length of l is between 2 and 2000 inclusive.  The elements of l are between 1 and 999999 inclusive.  The answer fits within a signed 32-bit integer. Some of the lists are purposely generated without any access codes to throw off spies, so if no triples are found, return 0. \n\nFor example, [1, 2, 3, 4, 5, 6] has the triples: [1, 2, 4], [1, 2, 6], [1, 3, 6], making the answer 3 total.\n\nLanguages\n=========\n\nTo provide a Java solution, edit Solution.java\nTo provide a Python solution, edit solution.py\n\nTest cases\n==========\nYour code should pass the following test cases.\nNote that it may also be run against hidden test cases not shown here.\n\n-- Java cases --\nInput:\nSolution.solution([1, 1, 1])\nOutput:\n    1\n\nInput:\nSolution.solution([1, 2, 3, 4, 5, 6])\nOutput:\n    3\n\n-- Python cases --\nInput:\nsolution.solution([1, 2, 3, 4, 5, 6])\nOutput:\n    3\n\nInput:\nsolution.solution([1, 1, 1])\nOutput:\n    1"
        },
        {
            "cell_type": "code",
            "execution_count": 202,
            "metadata": {},
            "outputs": [],
            "source": "# The solution must be o(n^2), such that 3 nested for loops gives error because of run-time. \n\nimport numpy as np\n\ndef solution(L):\n    \n    length = len(L)\n    c = 0\n    m = np.zeros((length,length))\n    for i in range(length):\n        m[i,:] = np.remainder(L,L[i]) # find the magical matrix\n    \n    for i in range(length-2):\n        for j in range(i+1, length-1):\n            c += int(m[i,j]==0) * (m[j,j+1:] == 0).sum()\n            \n    \n    return c"
        },
        {
            "cell_type": "code",
            "execution_count": 203,
            "metadata": {},
            "outputs": [
                {
                    "data": {
                        "text/plain": "10"
                    },
                    "execution_count": 203,
                    "metadata": {},
                    "output_type": "execute_result"
                }
            ],
            "source": "l1 = [1, 3, 4 ,7 ,14, 18, 35, 36]\nl2 = [1, 2, 5, 3, 4, 3, 4, 5, 6]\nl3 = [1, 1, 1, 1]\nl4 = [1, 2, 4]\nl5 = [3, 6]\nl6 = [1, 1, 1, 1]\nl7 = [1, 2, 3, 4, 5, 6]\n\n            \nsolution(l2)"
        }
    ],
    "metadata": {
        "kernelspec": {
            "display_name": "Python 3.6",
            "language": "python",
            "name": "python3"
        },
        "language_info": {
            "codemirror_mode": {
                "name": "ipython",
                "version": 3
            },
            "file_extension": ".py",
            "mimetype": "text/x-python",
            "name": "python",
            "nbconvert_exporter": "python",
            "pygments_lexer": "ipython3",
            "version": "3.6.9"
        }
    },
    "nbformat": 4,
    "nbformat_minor": 1
}