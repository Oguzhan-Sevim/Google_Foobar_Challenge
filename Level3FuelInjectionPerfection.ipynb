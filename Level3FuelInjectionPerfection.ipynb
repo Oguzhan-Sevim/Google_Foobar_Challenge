{
    "cells": [
        {
            "cell_type": "markdown",
            "metadata": {},
            "source": "Fuel Injection Perfection\n=========================\n\nCommander Lambda has asked for your help to refine the automatic quantum antimatter fuel injection system for her LAMBCHOP doomsday device. It's a great chance for you to get a closer look at the LAMBCHOP - and maybe sneak in a bit of sabotage while you're at it - so you took the job gladly. \n\nQuantum antimatter fuel comes in small pellets, which is convenient since the many moving parts of the LAMBCHOP each need to be fed fuel one pellet at a time. However, minions dump pellets in bulk into the fuel intake. You need to figure out the most efficient way to sort and shift the pellets down to a single pellet at a time. \n\nThe fuel control mechanisms have three operations: \n\n1) Add one fuel pellet\n2) Remove one fuel pellet\n3) Divide the entire group of fuel pellets by 2 (due to the destructive energy released when a quantum antimatter pellet is cut in half, the safety controls will only allow this to happen if there is an even number of pellets)\n\nWrite a function called solution(n) which takes a positive integer as a string and returns the minimum number of operations needed to transform the number of pellets to 1. The fuel intake control panel can only display a number up to 309 digits long, so there won't ever be more pellets than you can express in that many digits.\n\nFor example:\nsolution(4) returns 2: 4 -> 2 -> 1\nsolution(15) returns 5: 15 -> 16 -> 8 -> 4 -> 2 -> 1\n\nLanguages\n=========\n\nTo provide a Python solution, edit solution.py\nTo provide a Java solution, edit Solution.java\n\nTest cases\n==========\nYour code should pass the following test cases.\nNote that it may also be run against hidden test cases not shown here.\n\n-- Python cases --\nInput:\nsolution.solution('15')\nOutput:\n    5\n\nInput:\nsolution.solution('4')\nOutput:\n    2\n\n-- Java cases --\nInput:\nSolution.solution('4')\nOutput:\n    2\n\nInput:\nSolution.solution('15')\nOutput:\n    5"
        },
        {
            "cell_type": "code",
            "execution_count": 9,
            "metadata": {},
            "outputs": [
                {
                    "data": {
                        "text/plain": "7"
                    },
                    "execution_count": 9,
                    "metadata": {},
                    "output_type": "execute_result"
                }
            ],
            "source": ""
        }
    ],
    "metadata": {
        "kernelspec": {
            "display_name": "Python 3.6",
            "language": "python",
            "name": "python3"
        },
        "language_info": {
            "codemirror_mode": {
                "name": "ipython",
                "version": 3
            },
            "file_extension": ".py",
            "mimetype": "text/x-python",
            "name": "python",
            "nbconvert_exporter": "python",
            "pygments_lexer": "ipython3",
            "version": "3.6.9"
        }
    },
    "nbformat": 4,
    "nbformat_minor": 1
}
