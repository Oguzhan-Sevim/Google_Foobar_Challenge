{
    "cells": [
        {
            "cell_type": "markdown",
            "metadata": {},
            "source": "En Route Salute\n===============\n\nCommander Lambda loves efficiency and hates anything that wastes time. She's a busy lamb, after all! She generously rewards henchmen who identify sources of inefficiency and come up with ways to remove them. You've spotted one such source, and you think solving it will help you build the reputation you need to get promoted.\n\nEvery time the Commander's employees pass each other in the hall, each of them must stop and salute each other - one at a time - before resuming their path. A salute is five seconds long, so each exchange of salutes takes a full ten seconds (Commander Lambda's salute is a bit, er, involved). You think that by removing the salute requirement, you could save several collective hours of employee time per day. But first, you need to show her how bad the problem really is.\n\nWrite a program that counts how many salutes are exchanged during a typical walk along a hallway. The hall is represented by a string. For example:\n\"--->-><-><-->-\"\n\nEach hallway string will contain three different types of characters: '>', an employee walking to the right; '<', an employee walking to the left; and '-', an empty space. Every employee walks at the same speed either to right or to the left, according to their direction. Whenever two employees cross, each of them salutes the other. They then continue walking until they reach the end, finally leaving the hallway. In the above example, they salute 10 times.\n\nWrite a function solution(s) which takes a string representing employees walking along a hallway and returns the number of times the employees will salute. s will contain at least 1 and at most 100 characters, each one of -, >, or <.\n\nLanguages\n=========\n\nTo provide a Python solution, edit solution.py\nTo provide a Java solution, edit Solution.java\n\nTest cases\n==========\nYour code should pass the following test cases.\nNote that it may also be run against hidden test cases not shown here.\n\n-- Python cases --\nInput:\nsolution.solution(\">----<\")\nOutput:\n    2\n\nInput:\nsolution.solution(\"<<>><\")\nOutput:\n    4\n\n-- Java cases --\nInput:\nSolution.solution(\"<<>><\")\nOutput:\n    4\n\nInput:\nSolution.solution(\">----<\")\nOutput:\n    2"
        },
        {
            "cell_type": "markdown",
            "metadata": {},
            "source": "Completed in: 1 hr, 21 mins, 27 secs."
        }
    ],
    "metadata": {
        "kernelspec": {
            "display_name": "Python 3.6",
            "language": "python",
            "name": "python3"
        },
        "language_info": {
            "codemirror_mode": {
                "name": "ipython",
                "version": 3
            },
            "file_extension": ".py",
            "mimetype": "text/x-python",
            "name": "python",
            "nbconvert_exporter": "python",
            "pygments_lexer": "ipython3",
            "version": "3.6.9"
        }
    },
    "nbformat": 4,
    "nbformat_minor": 1
}
