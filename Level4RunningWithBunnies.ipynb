{
    "cells": [
        {
            "cell_type": "markdown",
            "metadata": {
                "collapsed": true
            },
            "source": "Running with Bunnies\n====================\n\nYou and your rescued bunny prisoners need to get out of this collapsing death trap of a space station - and fast! Unfortunately, some of the bunnies have been weakened by their long imprisonment and can't run very fast. Their friends are trying to help them, but this escape would go a lot faster if you also pitched in. The defensive bulkhead doors have begun to close, and if you don't make it through in time, you'll be trapped! You need to grab as many bunnies as you can and get through the bulkheads before they close. \n\nThe time it takes to move from your starting point to all of the bunnies and to the bulkhead will be given to you in a square matrix of integers. Each row will tell you the time it takes to get to the start, first bunny, second bunny, ..., last bunny, and the bulkhead in that order. The order of the rows follows the same pattern (start, each bunny, bulkhead). The bunnies can jump into your arms, so picking them up is instantaneous, and arriving at the bulkhead at the same time as it seals still allows for a successful, if dramatic, escape. (Don't worry, any bunnies you don't pick up will be able to escape with you since they no longer have to carry the ones you did pick up.) You can revisit different spots if you wish, and moving to the bulkhead doesn't mean you have to immediately leave - you can move to and from the bulkhead to pick up additional bunnies if time permits.\n\nIn addition to spending time traveling between bunnies, some paths interact with the space station's security checkpoints and add time back to the clock. Adding time to the clock will delay the closing of the bulkhead doors, and if the time goes back up to 0 or a positive number after the doors have already closed, it triggers the bulkhead to reopen. Therefore, it might be possible to walk in a circle and keep gaining time: that is, each time a path is traversed, the same amount of time is used or added.\n\nWrite a function of the form solution(times, time_limit) to calculate the most bunnies you can pick up and which bunnies they are, while still escaping through the bulkhead before the doors close for good. If there are multiple sets of bunnies of the same size, return the set of bunnies with the lowest prisoner IDs (as indexes) in sorted order. The bunnies are represented as a sorted list by prisoner ID, with the first bunny being 0. There are at most 5 bunnies, and time_limit is a non-negative integer that is at most 999.\n\nFor instance, in the case of\n[\n  [0, 2, 2, 2, -1],  # 0 = Start\n  [9, 0, 2, 2, -1],  # 1 = Bunny 0\n  [9, 3, 0, 2, -1],  # 2 = Bunny 1\n  [9, 3, 2, 0, -1],  # 3 = Bunny 2\n  [9, 3, 2, 2,  0],  # 4 = Bulkhead\n]\nand a time limit of 1, the five inner array rows designate the starting point, bunny 0, bunny 1, bunny 2, and the bulkhead door exit respectively. You could take the path:\n\n   Start    End   Delta Time Status\n    -   0     -    1 Bulkhead initially open\n    0   4    -1    2\n    4   2     2    0\n    2   4    -1    1\n    4   3     2   -1 Bulkhead closes\n    3   4    -1    0 Bulkhead reopens; you and the bunnies exit\n\nWith this solution, you would pick up bunnies 1 and 2. This is the best combination for this space station hallway, so the answer is [1, 2].\n\nLanguages\n=========\n\nTo provide a Java solution, edit Solution.java\nTo provide a Python solution, edit solution.py\n\nTest cases\n==========\nYour code should pass the following test cases.\nNote that it may also be run against hidden test cases not shown here.\n\n-- Java cases --\n\nInput:\n\nSolution.solution({{0, 1, 1, 1, 1}, {1, 0, 1, 1, 1}, {1, 1, 0, 1, 1}, {1, 1, 1, 0, 1}, {1, 1, 1, 1, 0}}, 3)\n\nOutput:\n    [0, 1]\n\nInput:\n\nSolution.solution({{0, 2, 2, 2, -1}, {9, 0, 2, 2, -1}, {9, 3, 0, 2, -1}, {9, 3, 2, 0, -1}, {9, 3, 2, 2, 0}}, 1)\n\nOutput:\n    [1, 2]\n\n-- Python cases --\n\nInput:\n\nsolution.solution([[0, 2, 2, 2, -1], [9, 0, 2, 2, -1], [9, 3, 0, 2, -1], [9, 3, 2, 0, -1], [9, 3, 2, 2, 0]], 1)\n\nOutput:\n    [1, 2]\n\nInput:\n\nsolution.solution([[0, 1, 1, 1, 1], [1, 0, 1, 1, 1], [1, 1, 0, 1, 1], [1, 1, 1, 0, 1], [1, 1, 1, 1, 0]], 3)\n\nOutput:\n    [0, 1]"
        },
        {
            "cell_type": "code",
            "execution_count": 3,
            "metadata": {},
            "outputs": [],
            "source": "import itertools"
        },
        {
            "cell_type": "code",
            "execution_count": 10,
            "metadata": {},
            "outputs": [],
            "source": "def solution(times, time_limit):\n    # The algorithm I propose is kind of hard coding. I didn't outsourced any available TSM algorithm.\n    # Instead, I have managed to tackle the problem with my own logic.\n    \n    number_of_bunnies = len(times)-2\n    leng = len(times)\n\n    perms2List = list(itertools.permutations(range(leng),2))\n    perms2Durations = dict.fromkeys(perms2List)\n    \n    # Find the shortest distance between any 2 points. I will consider 3 cases. First one is the direct path. Second one is putting\n    # a single node between them. Last one is putting 2 nodes between them. \n    for key in perms2Durations.keys():\n        \n        remaining_nodes = [node for node in range(leng) if (node != key[0] and node!= key[1])]\n        dist = times[key[0]][key[1]] # go directly\n        \n        # put single node in-between:\n        for node in remaining_nodes:\n            dist = min(dist, times[key[0]][node] + times[node][key[1]])\n        # put 2 nodes in-between:\n        for node in list(itertools.permutations(remaining_nodes,2)):\n            dist = min(dist, times[key[0]][node[0]] + times[node[0]][node[1]] + times[node[1]][key[1]]) \n        perms2Durations[key] = dist\n\n    # Check if there exists a loop with minus time change in total or a negative entry on the diagonal of times.\n    # If there exists such one, return the list of all bunnies immediately. \n    for ends in range(leng):\n        if (times[ends][ends] < 0): # Check if there is aa negative entry on the diagonal of times. \n            return [bun for bun in range(number_of_bunnies)]\n        \n        for mid in [i for i in range(leng) if i != ends]: # Check if there is a loop with minus time change in total.\n            if perms2Durations[(ends,mid)]+perms2Durations[(mid,ends)] < 0:\n                return [bun for bun in range(number_of_bunnies)]\n    \n    # Go from maximum number of bunnies to save down to to 1\n    for max_bunnies_saved in range(number_of_bunnies, 0, -1):\n        permsList = list(itertools.permutations( range( 1,leng-1 ),max_bunnies_saved ))\n        permsDurations = dict.fromkeys(permsList)\n    \n        # Find the duration for all possible routes with the same number of bunnies saved. \n        # If you find a duration less than time_limit, return the bunny list\n        for key in sorted(permsDurations.keys()):\n            duration = perms2Durations[(0,key[0])] + perms2Durations[(key[-1],leng-1)]\n            \n            for keyception in range(max_bunnies_saved-1):\n                duration += perms2Durations[(key[keyception],key[keyception+1])]\n            if duration <= time_limit:\n                return sorted([bun-1 for bun in key])\n            \n    return []"
        },
        {
            "cell_type": "code",
            "execution_count": 11,
            "metadata": {},
            "outputs": [],
            "source": "times = [[-1, 2, 2, 2, -1],\n         [9, 0, 2, 2, -1],\n         [9, 3, 0, 2, -1],\n         [9, 3, 2, 0, -1],\n         [9, 3, 2, 2, 0]]\ntime_limit = 0 # [1,2] should be rescued. (provided case)\n\ntimes2 = [[0, 1, 1, 1, 1], \n          [1, 0, 1, 1, 1], \n          [1, 1, 0, 1, 1], \n          [1, 1, 1, 0, 1], \n          [1, 1, 1, 1, 0]]\ntime_limit2 = 3 # [0,1] should be rescued. (provided case)\n\ntimes3=  [[1, 1, 1, 1, 1, 1, 1],\n          [1, 1, 1, 1, 1, 1, 1],\n          [1, 1, 1, 1, 1, 1, 1],\n          [1, 1, 1, 1, 1, 1, 1],\n          [1, 1, 1, 1, 1, 1, 1],\n          [1, 1, 1, 1, 1, 1, 1],\n          [1, 1, 1, 1, 1, 1, 1]]\ntime_limit3 = 1 # [] should be rescued.\n\ntimes4 = [[1, 1, 1],\n          [1, 1, 1],\n          [1, 1, 1]]\ntime_limit4 = 2 # [0] should be rescued.\n\ntimes5 = [[0, 5, 11, 11, 1],\n         [10, 0, 1, 5, 1],\n         [10, 1, 0, 4, 0],\n         [10, 1, 5, 0, 1],\n         [10, 10, 10, 10, 0]]\ntime_limit5 = 10 # [0,1] should be rescued.\n\ntimes6=[[0, 2, 2, 2, -1],\n        [9, 0, 2, 2, 0],\n        [9, 3, 0, 2, 0],\n        [9, 3, 2, 0, 0],\n        [-1, 3, 2, 2, 0]]\ntime_limit6 = -500 # [0,1,2] should be rescued.\n\ntimes7 =[[0, 10, 10, 10, 1],\n        [0, 0, 10, 10, 10],\n        [0, 10, 0, 10, 10],\n        [0, 10, 10, 0, 10],\n        [1, 1, 1, 1, 0]]\ntime_limit7 = 5 # [0,1] should be rescued.\n\ntimes8=[[0, 0, 0, 0, 0],\n        [0, 0, 0, 0, 0],\n        [0, 0, 0, 0, 0],\n        [0, 0, 0, 0, 0],\n        [0, 0, 0, 0, 0]]\ntime_limit8 = 1 # [0,1,2] should be rescued.\n\ntimes9=[[2, 2],\n        [2, 2]]\ntime_limit9 = 1 # [] should be rescued.\n\ntimes10=[[0, 10, 10, 1, 10],\n        [10, 0, 10, 10, 1],\n        [10, 1, 0, 10, 10],\n        [10, 10, 1, 0, 10],\n        [1, 10, 10, 10, 0]]\ntime_limit10 = 6 # [0,1,2] should be rescued.\n\ntimes11 =[[0,  1,  5,  5,  2],\n          [10, 0,  2,  6,  10],\n          [10, 10, 0,  1,  5],\n          [10, 10, 10, 0,  1],\n          [10, 10, 10, 10, 0]]\ntime_limit11 = 5 # [0, 1, 2] should be rescued.\n\ntimes12 =[[0, 1, 3, 4, 2],\n          [10, 0, 2, 3, 4],\n          [10, 10, 0, 1, 2],\n          [10, 10, 10, 0, 1],\n          [10, 10, 10, 10, 0]]\ntime_limit12 = 4 # [] should be rescued.\n\ntimes13 =[[0, 2, 2, 2, -1],\n          [9, 0, 2, 2, -1],\n          [9, 3, 0, 2, -1],\n          [9, 3, 2, 0, -1],\n          [9, 3, 2, 2, 0]]\ntime_limit13 = 1 # [1,2] should be rescued.\n\ntimes14 =[[0,  1, 10, 10, 10],\n          [10, 0,  1,  1,  2],\n          [10, 1,  0, 10, 10],\n          [10, 1,  10, 0, 10],\n          [10, 10, 10, 10, 0]]\ntime_limit14 = 7 # [0,1,2] should be rescued.\n\ntimes15 =[[0, 5, 11, 11, 1],\n          [10, 0, 1, 5, 1],\n          [10, 1, 0, 4, 0],\n          [10, 1, 5, 0, 1],\n          [10, 10, 10, 10, 0]]\ntime_limit15 = 10 # [0,1] should be rescued.\n\ntimes16 =[[0, 20, 20, 20, -1],\n          [90, 0, 20, 20, 0],\n          [90, 30, 0, 20, 0],\n          [90, 30, 20, 0, 0],\n          [-1, 30, 20, 20, 0]]\ntime_limit16 = 0 # [0,1,2] should be rescued.\n\ntimes17 =[[0, 10, 10, 10, 1],\n          [0, 0, 10, 10, 10],\n          [0, 10, 0, 10, 10],\n          [0, 10, 10, 0, 10],\n          [1, 1, 1, 1, 0]]\ntime_limit17 = 5 # [0,1] should be rescued.\n\ntimes18 =[[0, 10, 10, 1, 10],\n          [10, 0, 10, 10, 1],\n          [10, 1, 0, 10, 10],\n          [10, 10, 1, 0, 10],\n          [1, 10, 10, 10, 0]]\ntime_limit18 = 6 # [0,1,2] should be rescued.\n\ntimes19 =[[1, 1, 1, 1, 1, 1, 1],\n          [1, 1, 1, 1, 1, 1, 1],\n          [1, 1, 1, 1, 1, 1, 1],\n          [1, 1, 1, 1, 1, 1, 1],\n          [1, 1, 1, 1, 1, 1, 1],\n          [1, 1, 1, 1, 1, 1, 1],\n          [1, 1, 1, 1, 1, 1, 1]]\ntime_limit19 = 1 # [] should be rescued.\n\ntimes20 =[[0, 0, 1, 1, 1],\n          [0, 0, 0, 1, 1],\n          [0, 0, 0, 0, 1],\n          [0, 0, 0, 0, 0],\n          [0, 0, 0, 0, 0]]\ntime_limit20 = 0 # [0,1,2] should be rescued.\n\ntimes21 =[[1, 1, 1, 1, 1],\n          [-1, 1, 1, 1, 1],\n          [-1, 1, 1, 1, 1],\n          [-1, 1, 1, 1, 1],\n          [-1, 1, 1, 1, 1]]\ntime_limit21 = 1 # [0, 1, 2] should be rescued.\n\ntimes22 =[[0, 1, 5, 5, 5, 5],\n          [5, 0, 1, 5, 5, 5],\n          [5, 5, 0, 5, 5, -1],\n          [5, 5, 1, 0, 5, 5],\n          [5, 5, 1, 5, 0, 5],\n          [5, 5, 1, 1, 1, 0]]\ntime_limit22 = 3 # [0,1,2,3] should be rescued."
        },
        {
            "cell_type": "code",
            "execution_count": 12,
            "metadata": {},
            "outputs": [
                {
                    "data": {
                        "text/plain": "[0, 1, 2, 3]"
                    },
                    "execution_count": 12,
                    "metadata": {},
                    "output_type": "execute_result"
                }
            ],
            "source": "solution(times22, time_limit22)"
        }
    ],
    "metadata": {
        "kernelspec": {
            "display_name": "Python 3.6",
            "language": "python",
            "name": "python3"
        },
        "language_info": {
            "codemirror_mode": {
                "name": "ipython",
                "version": 3
            },
            "file_extension": ".py",
            "mimetype": "text/x-python",
            "name": "python",
            "nbconvert_exporter": "python",
            "pygments_lexer": "ipython3",
            "version": "3.6.9"
        }
    },
    "nbformat": 4,
    "nbformat_minor": 1
}