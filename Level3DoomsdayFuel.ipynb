{
    "cells": [
        {
            "cell_type": "markdown",
            "metadata": {},
            "source": "Doomsday Fuel\n=============\n\nMaking fuel for the LAMBCHOP's reactor core is a tricky process because of the exotic matter involved. It starts as raw ore, then during processing, begins randomly changing between forms, eventually reaching a stable form. There may be multiple stable forms that a sample could ultimately reach, not all of which are useful as fuel. \n\nCommander Lambda has tasked you to help the scientists increase fuel creation efficiency by predicting the end state of a given ore sample. You have carefully studied the different structures that the ore can take and which transitions it undergoes. It appears that, while random, the probability of each structure transforming is fixed. That is, each time the ore is in 1 state, it has the same probabilities of entering the next state (which might be the same state).  You have recorded the observed transitions in a matrix. The others in the lab have hypothesized more exotic forms that the ore can become, but you haven't seen all of them.\n\nWrite a function solution(m) that takes an array of array of nonnegative ints representing how many times that state has gone to the next state and return an array of ints for each terminal state giving the exact probabilities of each terminal state, represented as the numerator for each state, then the denominator for all of them at the end and in simplest form. The matrix is at most 10 by 10. It is guaranteed that no matter which state the ore is in, there is a path from that state to a terminal state. That is, the processing will always eventually end in a stable state. The ore starts in state 0. The denominator will fit within a signed 32-bit integer during the calculation, as long as the fraction is simplified regularly. \n\nFor example, consider the matrix m:\n\n  [0,1,0,0,0,1],   s0, the initial state, goes to s1 and s5 with equal probability\n  \n  [4,0,0,3,2,0],   s1 can become s0, s3, or s4, but with different probabilities\n  \n  [0,0,0,0,0,0],   s2 is terminal, and unreachable (never observed in practice)\n  \n  [0,0,0,0,0,0],   s3 is terminal\n  \n  [0,0,0,0,0,0],   s4 is terminal\n  \n  [0,0,0,0,0,0],   s5 is terminal\n\nSo, we can consider different paths to terminal states, such as:\n\ns0 -> s1 -> s3\n\ns0 -> s1 -> s0 -> s1 -> s0 -> s1 -> s4\n\ns0 -> s1 -> s0 -> s5\n\nTracing the probabilities of each, we find that\n\ns2 has probability 0\n\ns3 has probability 3/14\n\ns4 has probability 1/7\n\ns5 has probability 9/14\n\nSo, putting that together, and making a common denominator, gives an answer in the form of\n[s2.numerator, s3.numerator, s4.numerator, s5.numerator, denominator] which is\n[0, 3, 2, 9, 14].\n\nTest cases\n==========\nYour code should pass the following test cases.\nNote that it may also be run against hidden test cases not shown here.\n\n-- Java cases --\n\nInput:\n\nSolution.solution({{0, 2, 1, 0, 0}, {0, 0, 0, 3, 4}, {0, 0, 0, 0, 0}, {0, 0, 0, 0,0}, {0, 0, 0, 0, 0}})\n\nOutput:\n\n    [7, 6, 8, 21]\n\nInput:\n\nSolution.solution({{0, 1, 0, 0, 0, 1}, {4, 0, 0, 3, 2, 0}, {0, 0, 0, 0, 0, 0}, {0, 0, 0, 0, 0, 0}, {0, 0, 0, 0, 0, 0}, {0, 0, 0, 0, 0, 0}})\n\nOutput:\n\n    [0, 3, 2, 9, 14]\n\n-- Python cases --\n\nInput:\n\nsolution.solution([[0, 2, 1, 0, 0], [0, 0, 0, 3, 4], [0, 0, 0, 0, 0], [0, 0, 0, 0,0], [0, 0, 0, 0, 0]])\n\nOutput:\n\n    [7, 6, 8, 21]\n\nInput:\n\nsolution.solution([[0, 1, 0, 0, 0, 1], [4, 0, 0, 3, 2, 0], [0, 0, 0, 0, 0, 0], [0, 0, 0, 0, 0, 0], [0, 0, 0, 0, 0, 0], [0, 0, 0, 0, 0, 0]])\n\nOutput:\n\n    [0, 3, 2, 9, 14]"
        },
        {
            "cell_type": "code",
            "execution_count": 158,
            "metadata": {},
            "outputs": [
                {
                    "name": "stdout",
                    "output_type": "stream",
                    "text": ""
                }
            ],
            "source": ""
        }
    ],
    "metadata": {
        "kernelspec": {
            "display_name": "Python 3.6",
            "language": "python",
            "name": "python3"
        },
        "language_info": {
            "codemirror_mode": {
                "name": "ipython",
                "version": 3
            },
            "file_extension": ".py",
            "mimetype": "text/x-python",
            "name": "python",
            "nbconvert_exporter": "python",
            "pygments_lexer": "ipython3",
            "version": "3.6.9"
        }
    },
    "nbformat": 4,
    "nbformat_minor": 1
}
